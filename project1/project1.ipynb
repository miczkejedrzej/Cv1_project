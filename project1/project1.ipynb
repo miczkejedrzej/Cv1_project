{
 "cells": [
  {
   "cell_type": "code",
   "execution_count": 54,
   "metadata": {},
   "outputs": [],
   "source": [
    "import numpy as np\n",
    "\n",
    "\n",
    "import cv2\n",
    "import matplotlib.pyplot as plt\n",
    "from datetime import datetime\n",
    "import pandas as pd\n",
    "import datetime\n",
    "import glob\n",
    "from matplotlib.colors import Normalize\n",
    "\n",
    "\n",
    "def set_axis(x, no_labels = 7)->tuple[np.array, np.array]:\n",
    "    \"\"\"Sets the x-axis positions and labels for a plot.\n",
    "\n",
    "    Args:\n",
    "        x (np.array): The x-axis data.\n",
    "        no_labels (int, optional): The number of labels to display. Defaults to 7.\n",
    "\n",
    "    Returns:\n",
    "        tuple[np.array, np.array]: A tuple containing:\n",
    "            - The positions of the labels on the x-axis.\n",
    "            - The labels themselves.\n",
    "    \"\"\"\n",
    "    nx = x.shape[0]\n",
    "    step_x = int(nx / (no_labels - 1)) \n",
    "    x_positions = np.arange(0,nx,step_x) \n",
    "    x_labels = x[::step_x]\n",
    "    return x_positions, x_labels\n",
    "\n",
    "\n",
    "\n"
   ]
  },
  {
   "cell_type": "code",
   "execution_count": 38,
   "metadata": {},
   "outputs": [],
   "source": [
    "path_out = 'mateusz\\\\'\n",
    "files = glob.glob(path_out+\"*\")\n",
    "files.sort()\n",
    "\n",
    "\n"
   ]
  },
  {
   "cell_type": "code",
   "execution_count": 39,
   "metadata": {},
   "outputs": [],
   "source": [
    "dx= 5.106500953873407 \n",
    "dt= 0.0016\n",
    "\n",
    "\n",
    "data_1 = []\n",
    "data_2 = []\n",
    "first_filename_1 = files[0]\n",
    "first_filename_2 = files[6]\n",
    "for file in files[:6]:\n",
    "   data_1.append(np.load(file))\n",
    "for file in files[6:]:\n",
    "    data_2.append(np.load(file))\n",
    "data_1 = np.concatenate(data_1)\n",
    "data_2 = np.concatenate(data_2)\n",
    "time_start_1 = datetime.datetime.strptime('2024-05-07 ' + first_filename_1.split(\"\\\\\")[-1].split(\".\")[0], \"%Y-%m-%d %H%M%S\")\n",
    "time_start_2 = datetime.datetime.strptime('2024-05-07 ' + first_filename_2.split(\"\\\\\")[-1].split(\".\")[0], \"%Y-%m-%d %H%M%S\")\n",
    "\n",
    "index_1 = pd.date_range(start=time_start_1, periods=len(data_1), freq=f'{dt}s')\n",
    "index_2 = pd.date_range(start=time_start_2, periods=len(data_1), freq=f'{dt}s')\n",
    "\n",
    "\n",
    "columns_1 = np.arange(len(data_1[0])) * dx\n",
    "columns_2 = np.arange(len(data_2[0])) * dx\n",
    "\n",
    "\n",
    "df_1 = pd.DataFrame(data=data_1, index=index_1, columns=columns_1)\n",
    "df_2 = pd.DataFrame(data=data_2, index=index_2, columns=columns_2)\n",
    "\n",
    "print(df_1)\n"
   ]
  },
  {
   "cell_type": "code",
   "execution_count": null,
   "metadata": {},
   "outputs": [],
   "source": [
    "def thresholding_function(data):\n",
    "        thresh, image = cv2.threshold(\n",
    "        data, 0, 255, cv2.THRESH_BINARY + cv2.THRESH_OTSU\n",
    ")\n",
    "        return image"
   ]
  },
  {
   "cell_type": "code",
   "execution_count": null,
   "metadata": {},
   "outputs": [],
   "source": [
    "\n",
    "def plotting_function(df):\n",
    "        fig = plt.figure(figsize=(12,16))\n",
    "        ax = plt.axes()\n",
    "        \n",
    "        # This is an example transformation and should be converted to the proper algorithm\n",
    "        df-= df.mean()\n",
    "        df = np.abs(df) \n",
    "        low, high = np.percentile(df, [3, 99]) \n",
    "        norm = Normalize(vmin=low, vmax=high, clip=True)\n",
    "\n",
    "\n",
    "        im = ax.imshow(df,interpolation='none',aspect='auto',norm=norm)\n",
    "        plt.ylabel('time')\n",
    "        plt.xlabel('space [m]')\n",
    "\n",
    "        cax = fig.add_axes([ax.get_position().x1+0.06,ax.get_position().y0,0.02,ax.get_position().height])\n",
    "        plt.colorbar(im, cax=cax)\n",
    "        x_positions, x_labels = set_axis(df.columns)\n",
    "        ax.set_xticks(x_positions, np.round(x_labels))\n",
    "        y_positions, y_labels = set_axis(df.index.time)\n",
    "        ax.set_yticks(y_positions, y_labels)\n",
    "        plt.show()\n",
    " \n",
    "    "
   ]
  },
  {
   "cell_type": "code",
   "execution_count": 52,
   "metadata": {},
   "outputs": [],
   "source": [
    "print(data_1)"
   ]
  },
  {
   "cell_type": "code",
   "execution_count": 53,
   "metadata": {},
   "outputs": [],
   "source": [
    "plotting_function(df_1)  "
   ]
  },
  {
   "cell_type": "code",
   "execution_count": null,
   "metadata": {},
   "outputs": [],
   "source": [
    "plotting_function(df_2)"
   ]
  },
  {
   "cell_type": "code",
   "execution_count": null,
   "metadata": {},
   "outputs": [],
   "source": [
    "data = df_2.data\n",
    "print(data)"
   ]
  }
 ],
 "metadata": {
  "kernelspec": {
   "display_name": "Python 3",
   "language": "python",
   "name": "python3"
  },
  "language_info": {
   "codemirror_mode": {
    "name": "ipython",
    "version": 3
   },
   "file_extension": ".py",
   "mimetype": "text/x-python",
   "name": "python",
   "nbconvert_exporter": "python",
   "pygments_lexer": "ipython3",
   "version": "3.11.9"
  }
 },
 "nbformat": 4,
 "nbformat_minor": 2
}
